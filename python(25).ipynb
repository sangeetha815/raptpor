{
  "nbformat": 4,
  "nbformat_minor": 0,
  "metadata": {
    "colab": {
      "name": "python(25).ipynb",
      "version": "0.3.2",
      "provenance": [],
      "include_colab_link": true
    },
    "kernelspec": {
      "name": "python3",
      "display_name": "Python 3"
    }
  },
  "cells": [
    {
      "cell_type": "markdown",
      "metadata": {
        "id": "view-in-github",
        "colab_type": "text"
      },
      "source": [
        "<a href=\"https://colab.research.google.com/github/sangeetha815/raptpor/blob/master/python(25).ipynb\" target=\"_parent\"><img src=\"https://colab.research.google.com/assets/colab-badge.svg\" alt=\"Open In Colab\"/></a>"
      ]
    },
    {
      "cell_type": "markdown",
      "metadata": {
        "id": "bPKgW8ci2Fke",
        "colab_type": "text"
      },
      "source": [
        "# 1) Binary search\n"
      ]
    },
    {
      "cell_type": "code",
      "metadata": {
        "id": "DeawdgLw2Paa",
        "colab_type": "code",
        "colab": {
          "base_uri": "https://localhost:8080/",
          "height": 35
        },
        "outputId": "bdb0a831-d534-4e63-f80e-e7dbe7c6524c"
      },
      "source": [
        "def binarysearch(a,l,r,taritem):\n",
        "  while l<=r:\n",
        "    m=l+(r-l)//2\n",
        "    if a[m]==taritem:\n",
        "      return m\n",
        "    if a[m] > taritem:\n",
        "      r=m-1\n",
        "    else:\n",
        "      l=m+1\n",
        "  return -1\n",
        "list1=[1,2,3,4,5,6,7,8,9]\n",
        "res=binarysearch(list1,0,8,6)\n",
        "if res!=-1:\n",
        "  print(\"found\")\n",
        "else:\n",
        "  print(\"not found\")"
      ],
      "execution_count": 10,
      "outputs": [
        {
          "output_type": "stream",
          "text": [
            "found\n"
          ],
          "name": "stdout"
        }
      ]
    },
    {
      "cell_type": "markdown",
      "metadata": {
        "id": "-7eyfvYV9NDo",
        "colab_type": "text"
      },
      "source": [
        "# 2)Bubble sort"
      ]
    },
    {
      "cell_type": "code",
      "metadata": {
        "id": "WKja13An7_sx",
        "colab_type": "code",
        "colab": {
          "base_uri": "https://localhost:8080/",
          "height": 35
        },
        "outputId": "b6b1c91c-b060-4b11-f4b4-7308fd9dd8ea"
      },
      "source": [
        "def bubblesort(a):\n",
        "  for i in range(len(a)-1):\n",
        "    for j in range(len(a)-1):\n",
        "      if a[j]>a[j+1]:\n",
        "          a[j],a[j+1]=a[j+1],a[j]\n",
        "  for i in range(len(a)):\n",
        "    print(a[i],end=\" \")\n",
        "    \n",
        "list1=[15,2,78,35,9,42,1,50,73,4,0]\n",
        "#bubblesort(list1)\n",
        "list1.sort()\n",
        "print(list1)\n",
        "        "
      ],
      "execution_count": 24,
      "outputs": [
        {
          "output_type": "stream",
          "text": [
            "[0, 1, 2, 4, 9, 15, 35, 42, 50, 73, 78]\n"
          ],
          "name": "stdout"
        }
      ]
    },
    {
      "cell_type": "markdown",
      "metadata": {
        "id": "HMRY2sZfGKbO",
        "colab_type": "text"
      },
      "source": [
        "# 3)Strings in Python"
      ]
    },
    {
      "cell_type": "code",
      "metadata": {
        "id": "6geNyTjTFLpL",
        "colab_type": "code",
        "colab": {
          "base_uri": "https://localhost:8080/",
          "height": 90
        },
        "outputId": "4d5ab7de-2484-47ad-ce64-1ce46d88ebdc"
      },
      "source": [
        "str=\"application\"\n",
        "print(str)\n",
        "\n",
        "str1='application'\n",
        "print(str1)\n",
        "\n",
        "str2=\"\"\"application completed\n",
        "         list strings python\"\"\"\n",
        "print(str2)"
      ],
      "execution_count": 26,
      "outputs": [
        {
          "output_type": "stream",
          "text": [
            "application\n",
            "application\n",
            "application completed\n",
            "         list strings python\n"
          ],
          "name": "stdout"
        }
      ]
    },
    {
      "cell_type": "code",
      "metadata": {
        "id": "12xmQ6aVImL1",
        "colab_type": "code",
        "colab": {
          "base_uri": "https://localhost:8080/",
          "height": 199
        },
        "outputId": "116c3ac8-076c-45db-ab85-d05bba347933"
      },
      "source": [
        "str=\"application\"\n",
        "print(str)\n",
        "print(\"str[0]=\",str[0])\n",
        "print(\"str[1]=\",str[1])\n",
        "print(\"str[-1]=\",str[-1])\n",
        "print(\"str[-3]=\",str[-3])\n",
        "print(\"str[1:5]=\",str[1:5])\n",
        "print(\"str[:5]=\",str[:5])\n",
        "print(\"str[:-5]=\",str[-5])\n",
        "print(\"str[5:-2]=\",str[5:-2])\n",
        "print(\"str[::-1]=\",str[::-1])#reverse"
      ],
      "execution_count": 56,
      "outputs": [
        {
          "output_type": "stream",
          "text": [
            "application\n",
            "str[0]= a\n",
            "str[1]= p\n",
            "str[-1]= n\n",
            "str[-3]= i\n",
            "str[1:5]= ppli\n",
            "str[:5]= appli\n",
            "str[:-5]= a\n",
            "str[5:-2]= cati\n",
            "str[::-1]= noitacilppa\n"
          ],
          "name": "stdout"
        }
      ]
    },
    {
      "cell_type": "code",
      "metadata": {
        "id": "bb6SxNkrJ42L",
        "colab_type": "code",
        "colab": {
          "base_uri": "https://localhost:8080/",
          "height": 54
        },
        "outputId": "26ac89f5-df41-4371-c252-6e7e71d5a5ef"
      },
      "source": [
        "def ispalindrome(s):\n",
        "  if s==s[::-1]:\n",
        "    return True\n",
        "  else:\n",
        "    return False\n",
        "  \n",
        "print(ispalindrome(\"wow\"))\n",
        "print(ispalindrome(\"mom\"))"
      ],
      "execution_count": 57,
      "outputs": [
        {
          "output_type": "stream",
          "text": [
            "True\n",
            "True\n"
          ],
          "name": "stdout"
        }
      ]
    },
    {
      "cell_type": "markdown",
      "metadata": {
        "id": "8VN2WiEOT5ds",
        "colab_type": "text"
      },
      "source": [
        "# count the no.of characters"
      ]
    },
    {
      "cell_type": "code",
      "metadata": {
        "id": "hvM6d3NBTcEh",
        "colab_type": "code",
        "colab": {
          "base_uri": "https://localhost:8080/",
          "height": 35
        },
        "outputId": "5d65235c-cbc7-4e16-c25b-fae50173b45c"
      },
      "source": [
        "def countchar(str):\n",
        "  return len(str)\n",
        "countchar(\"sangeetha chelikani\")"
      ],
      "execution_count": 50,
      "outputs": [
        {
          "output_type": "execute_result",
          "data": {
            "text/plain": [
              "19"
            ]
          },
          "metadata": {
            "tags": []
          },
          "execution_count": 50
        }
      ]
    },
    {
      "cell_type": "code",
      "metadata": {
        "id": "dSUmNaxZVOQ2",
        "colab_type": "code",
        "colab": {
          "base_uri": "https://localhost:8080/",
          "height": 35
        },
        "outputId": "db8d4bc7-d80e-4f58-eaaf-ac33c1645cd1"
      },
      "source": [
        "def countdigits(n):\n",
        "  return len(n)\n",
        "countdigits(\"123456789\")"
      ],
      "execution_count": 52,
      "outputs": [
        {
          "output_type": "execute_result",
          "data": {
            "text/plain": [
              "9"
            ]
          },
          "metadata": {
            "tags": []
          },
          "execution_count": 52
        }
      ]
    },
    {
      "cell_type": "markdown",
      "metadata": {
        "id": "nVbSdGJEWPov",
        "colab_type": "text"
      },
      "source": [
        "# string examples"
      ]
    },
    {
      "cell_type": "code",
      "metadata": {
        "id": "s9yDA1x7VtJ0",
        "colab_type": "code",
        "colab": {
          "base_uri": "https://localhost:8080/",
          "height": 54
        },
        "outputId": "e363cec0-cb03-460c-976a-f90dae55a888"
      },
      "source": [
        "string= \"sangeetha chelikani\"\n",
        "string1=\"PADMAVATHI CHELIKANI\"\n",
        "print(string.upper())\n",
        "print(string1.lower())"
      ],
      "execution_count": 55,
      "outputs": [
        {
          "output_type": "stream",
          "text": [
            "SANGEETHA CHELIKANI\n",
            "padmavathi chelikani\n"
          ],
          "name": "stdout"
        }
      ]
    },
    {
      "cell_type": "code",
      "metadata": {
        "id": "XBePprJiWwPT",
        "colab_type": "code",
        "colab": {
          "base_uri": "https://localhost:8080/",
          "height": 316
        },
        "outputId": "7cc04c4b-5c1d-49fc-9c8e-f42c5f7ac16a"
      },
      "source": [
        ""
      ],
      "execution_count": 72,
      "outputs": [
        {
          "output_type": "error",
          "ename": "TypeError",
          "evalue": "ignored",
          "traceback": [
            "\u001b[0;31m---------------------------------------------------------------------------\u001b[0m",
            "\u001b[0;31mTypeError\u001b[0m                                 Traceback (most recent call last)",
            "\u001b[0;32m<ipython-input-72-849b2500d95a>\u001b[0m in \u001b[0;36m<module>\u001b[0;34m()\u001b[0m\n\u001b[1;32m      2\u001b[0m   \u001b[0mlst\u001b[0m\u001b[0;34m=\u001b[0m\u001b[0mlist1\u001b[0m\u001b[0;34m(\u001b[0m\u001b[0mstr\u001b[0m\u001b[0;34m)\u001b[0m\u001b[0;34m\u001b[0m\u001b[0;34m\u001b[0m\u001b[0m\n\u001b[1;32m      3\u001b[0m   \u001b[0mprint\u001b[0m\u001b[0;34m(\u001b[0m\u001b[0mlen\u001b[0m\u001b[0;34m(\u001b[0m\u001b[0mlst\u001b[0m\u001b[0;34m)\u001b[0m\u001b[0;34m)\u001b[0m\u001b[0;34m\u001b[0m\u001b[0;34m\u001b[0m\u001b[0m\n\u001b[0;32m----> 4\u001b[0;31m \u001b[0mcount\u001b[0m\u001b[0;34m(\u001b[0m\u001b[0;34m\"app\"\u001b[0m\u001b[0;34m)\u001b[0m\u001b[0;34m\u001b[0m\u001b[0;34m\u001b[0m\u001b[0m\n\u001b[0m",
            "\u001b[0;32m<ipython-input-72-849b2500d95a>\u001b[0m in \u001b[0;36mcount\u001b[0;34m(str)\u001b[0m\n\u001b[1;32m      1\u001b[0m \u001b[0;32mdef\u001b[0m \u001b[0mcount\u001b[0m\u001b[0;34m(\u001b[0m\u001b[0mstr\u001b[0m\u001b[0;34m)\u001b[0m\u001b[0;34m:\u001b[0m\u001b[0;34m\u001b[0m\u001b[0;34m\u001b[0m\u001b[0m\n\u001b[0;32m----> 2\u001b[0;31m   \u001b[0mlst\u001b[0m\u001b[0;34m=\u001b[0m\u001b[0mlist1\u001b[0m\u001b[0;34m(\u001b[0m\u001b[0mstr\u001b[0m\u001b[0;34m)\u001b[0m\u001b[0;34m\u001b[0m\u001b[0;34m\u001b[0m\u001b[0m\n\u001b[0m\u001b[1;32m      3\u001b[0m   \u001b[0mprint\u001b[0m\u001b[0;34m(\u001b[0m\u001b[0mlen\u001b[0m\u001b[0;34m(\u001b[0m\u001b[0mlst\u001b[0m\u001b[0;34m)\u001b[0m\u001b[0;34m)\u001b[0m\u001b[0;34m\u001b[0m\u001b[0;34m\u001b[0m\u001b[0m\n\u001b[1;32m      4\u001b[0m \u001b[0mcount\u001b[0m\u001b[0;34m(\u001b[0m\u001b[0;34m\"app\"\u001b[0m\u001b[0;34m)\u001b[0m\u001b[0;34m\u001b[0m\u001b[0;34m\u001b[0m\u001b[0m\n",
            "\u001b[0;31mTypeError\u001b[0m: 'list' object is not callable"
          ]
        }
      ]
    },
    {
      "cell_type": "code",
      "metadata": {
        "id": "2eYyWj81eKTo",
        "colab_type": "code",
        "colab": {
          "base_uri": "https://localhost:8080/",
          "height": 316
        },
        "outputId": "939e164b-68e2-4872-d542-1c6785fb91ac"
      },
      "source": [
        "def count(str):\n",
        "  lst2 = list1(str)\n",
        "  print(len(lst2)) \n",
        "count(\"app\")\n"
      ],
      "execution_count": 81,
      "outputs": [
        {
          "output_type": "error",
          "ename": "TypeError",
          "evalue": "ignored",
          "traceback": [
            "\u001b[0;31m---------------------------------------------------------------------------\u001b[0m",
            "\u001b[0;31mTypeError\u001b[0m                                 Traceback (most recent call last)",
            "\u001b[0;32m<ipython-input-81-ccab15d07256>\u001b[0m in \u001b[0;36m<module>\u001b[0;34m()\u001b[0m\n\u001b[1;32m      2\u001b[0m   \u001b[0mlst2\u001b[0m \u001b[0;34m=\u001b[0m \u001b[0mlist1\u001b[0m\u001b[0;34m(\u001b[0m\u001b[0mstr\u001b[0m\u001b[0;34m)\u001b[0m\u001b[0;34m\u001b[0m\u001b[0;34m\u001b[0m\u001b[0m\n\u001b[1;32m      3\u001b[0m   \u001b[0mprint\u001b[0m\u001b[0;34m(\u001b[0m\u001b[0mlen\u001b[0m\u001b[0;34m(\u001b[0m\u001b[0mlst2\u001b[0m\u001b[0;34m)\u001b[0m\u001b[0;34m)\u001b[0m\u001b[0;34m\u001b[0m\u001b[0;34m\u001b[0m\u001b[0m\n\u001b[0;32m----> 4\u001b[0;31m \u001b[0mcount\u001b[0m\u001b[0;34m(\u001b[0m\u001b[0;34m\"app\"\u001b[0m\u001b[0;34m)\u001b[0m\u001b[0;34m\u001b[0m\u001b[0;34m\u001b[0m\u001b[0m\n\u001b[0m",
            "\u001b[0;32m<ipython-input-81-ccab15d07256>\u001b[0m in \u001b[0;36mcount\u001b[0;34m(str)\u001b[0m\n\u001b[1;32m      1\u001b[0m \u001b[0;32mdef\u001b[0m \u001b[0mcount\u001b[0m\u001b[0;34m(\u001b[0m\u001b[0mstr\u001b[0m\u001b[0;34m)\u001b[0m\u001b[0;34m:\u001b[0m\u001b[0;34m\u001b[0m\u001b[0;34m\u001b[0m\u001b[0m\n\u001b[0;32m----> 2\u001b[0;31m   \u001b[0mlst2\u001b[0m \u001b[0;34m=\u001b[0m \u001b[0mlist1\u001b[0m\u001b[0;34m(\u001b[0m\u001b[0mstr\u001b[0m\u001b[0;34m)\u001b[0m\u001b[0;34m\u001b[0m\u001b[0;34m\u001b[0m\u001b[0m\n\u001b[0m\u001b[1;32m      3\u001b[0m   \u001b[0mprint\u001b[0m\u001b[0;34m(\u001b[0m\u001b[0mlen\u001b[0m\u001b[0;34m(\u001b[0m\u001b[0mlst2\u001b[0m\u001b[0;34m)\u001b[0m\u001b[0;34m)\u001b[0m\u001b[0;34m\u001b[0m\u001b[0;34m\u001b[0m\u001b[0m\n\u001b[1;32m      4\u001b[0m \u001b[0mcount\u001b[0m\u001b[0;34m(\u001b[0m\u001b[0;34m\"app\"\u001b[0m\u001b[0;34m)\u001b[0m\u001b[0;34m\u001b[0m\u001b[0;34m\u001b[0m\u001b[0m\n",
            "\u001b[0;31mTypeError\u001b[0m: 'list' object is not callable"
          ]
        }
      ]
    },
    {
      "cell_type": "code",
      "metadata": {
        "id": "MLjImjzFcE56",
        "colab_type": "code",
        "colab": {
          "base_uri": "https://localhost:8080/",
          "height": 54
        },
        "outputId": "8ec3aaf5-2384-43a5-905c-f2507289a6c3"
      },
      "source": [
        "def printdiigits(str):\n",
        "  lst=list(str)\n",
        "  for x in range(len(lst)):\n",
        "      if ord(lst[x])>=45 and ord(lst[x])<=57:\n",
        "        print(lst[x],end=\" \")\n",
        "  \n",
        "print(printdiigits(\"Application1889\"))\n",
        "print(printdiigits(\"te95s24t\"))"
      ],
      "execution_count": 95,
      "outputs": [
        {
          "output_type": "stream",
          "text": [
            "1 8 8 9 None\n",
            "9 5 2 4 None\n"
          ],
          "name": "stdout"
        }
      ]
    },
    {
      "cell_type": "code",
      "metadata": {
        "id": "14WFcRsXgA99",
        "colab_type": "code",
        "colab": {
          "base_uri": "https://localhost:8080/",
          "height": 54
        },
        "outputId": "9ae49b7e-523d-48f6-ac8e-33cfb7a4b38d"
      },
      "source": [
        "def countuppercase(str):\n",
        "  cnt=0\n",
        "  lst=list(str)\n",
        "  for x in range(len(lst)):\n",
        "    if ord(lst[x])>=65 and ord(lst[x])<=90:\n",
        "      cnt=cnt+1\n",
        "  return cnt\n",
        "print(countuppercase(\"applBicaTtio\"))\n",
        "print(countuppercase(\"tesGHJYIDHt\"))"
      ],
      "execution_count": 88,
      "outputs": [
        {
          "output_type": "stream",
          "text": [
            "2\n",
            "7\n"
          ],
          "name": "stdout"
        }
      ]
    },
    {
      "cell_type": "code",
      "metadata": {
        "id": "kFialf82gt-4",
        "colab_type": "code",
        "colab": {
          "base_uri": "https://localhost:8080/",
          "height": 35
        },
        "outputId": "0df4adf5-c23f-42a4-be22-2588ab8730b6"
      },
      "source": [
        "def sumofdigits(str):\n",
        "  sum=0\n",
        "  lst=list(str)\n",
        "  for x in range(len(lst)):\n",
        "    if ord(lst[x])>=48 and ord(lst[x])<=57:\n",
        "      \n",
        "        if(ord(lst[x])%2==0):\n",
        "          sum=sum+ord(lst[x])-48\n",
        "  return sum\n",
        "sumofdigits(\"te1374567856216481712341984612431461959159632478963214563214598741236547912821st\")"
      ],
      "execution_count": 105,
      "outputs": [
        {
          "output_type": "execute_result",
          "data": {
            "text/plain": [
              "164"
            ]
          },
          "metadata": {
            "tags": []
          },
          "execution_count": 105
        }
      ]
    },
    {
      "cell_type": "code",
      "metadata": {
        "id": "rSwgBc_c9Va_",
        "colab_type": "code",
        "colab": {}
      },
      "source": [
        ""
      ],
      "execution_count": 0,
      "outputs": []
    }
  ]
}