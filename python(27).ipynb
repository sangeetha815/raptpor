{
  "nbformat": 4,
  "nbformat_minor": 0,
  "metadata": {
    "colab": {
      "name": "python(27).ipynb",
      "version": "0.3.2",
      "provenance": [],
      "include_colab_link": true
    },
    "kernelspec": {
      "name": "python3",
      "display_name": "Python 3"
    }
  },
  "cells": [
    {
      "cell_type": "markdown",
      "metadata": {
        "id": "view-in-github",
        "colab_type": "text"
      },
      "source": [
        "<a href=\"https://colab.research.google.com/github/sangeetha815/raptpor/blob/master/python(27).ipynb\" target=\"_parent\"><img src=\"https://colab.research.google.com/assets/colab-badge.svg\" alt=\"Open In Colab\"/></a>"
      ]
    },
    {
      "cell_type": "code",
      "metadata": {
        "id": "jHZnOr6mHYIZ",
        "colab_type": "code",
        "colab": {
          "base_uri": "https://localhost:8080/",
          "height": 35
        },
        "outputId": "231bcb16-64b1-4fd2-9904-f8691dff750d"
      },
      "source": [
        "def createfile(filename):\n",
        "    f=open(filename,\"w\")\n",
        "    for i in range(10):\n",
        "      f.write(\"ThiS is%d line\\n\" % i)\n",
        "    print(\"file is creaTTTTed successfully and data is written\")\n",
        "    f.close()\n",
        "    return\n",
        "createfile(\"file1.txt\")"
      ],
      "execution_count": 26,
      "outputs": [
        {
          "output_type": "stream",
          "text": [
            "file is creaTTTTed successfully and data is written\n"
          ],
          "name": "stdout"
        }
      ]
    },
    {
      "cell_type": "code",
      "metadata": {
        "id": "VoEFdEbcI2W4",
        "colab_type": "code",
        "colab": {
          "base_uri": "https://localhost:8080/",
          "height": 217
        },
        "outputId": "ae21bad4-ae02-4aab-e011-bbe6679a69eb"
      },
      "source": [
        "def readfile(filename):\n",
        "    f=open(filename,\"r\")\n",
        "    if f.mode==\"r\":\n",
        "      x=f.read()\n",
        "      print(x)\n",
        "    f.close()\n",
        "    return\n",
        "readfile(\"file1.txt\")"
      ],
      "execution_count": 27,
      "outputs": [
        {
          "output_type": "stream",
          "text": [
            "ThiS is0 line\n",
            "ThiS is1 line\n",
            "ThiS is2 line\n",
            "ThiS is3 line\n",
            "ThiS is4 line\n",
            "ThiS is5 line\n",
            "ThiS is6 line\n",
            "ThiS is7 line\n",
            "ThiS is8 line\n",
            "ThiS is9 line\n",
            "\n"
          ],
          "name": "stdout"
        }
      ]
    },
    {
      "cell_type": "code",
      "metadata": {
        "id": "SSHfwJgsLkbk",
        "colab_type": "code",
        "colab": {}
      },
      "source": [
        "def appenddata(filename):\n",
        "    f=open(filename,\"a\")\n",
        "    f.write(\"new line 1\\n\")\n",
        "    f.write(\"new line 2\\n\")\n",
        "    f.close()\n",
        "    return\n",
        "appenddata(\"file1.txt\")"
      ],
      "execution_count": 0,
      "outputs": []
    },
    {
      "cell_type": "code",
      "metadata": {
        "id": "mZc8zRF6b14c",
        "colab_type": "code",
        "colab": {
          "base_uri": "https://localhost:8080/",
          "height": 35
        },
        "outputId": "b6770082-c217-4e3e-d1c4-733b6a1c1225"
      },
      "source": [
        "ls"
      ],
      "execution_count": 29,
      "outputs": [
        {
          "output_type": "stream",
          "text": [
            "file1.txt  \u001b[0m\u001b[01;34msample_data\u001b[0m/\n"
          ],
          "name": "stdout"
        }
      ]
    },
    {
      "cell_type": "code",
      "metadata": {
        "id": "cCNJH7BpwA03",
        "colab_type": "code",
        "colab": {
          "base_uri": "https://localhost:8080/",
          "height": 235
        },
        "outputId": "212b0606-5076-49d2-9ecb-4a48bda5971e"
      },
      "source": [
        "cat file1.txt"
      ],
      "execution_count": 34,
      "outputs": [
        {
          "output_type": "stream",
          "text": [
            "ThiS is0 line\n",
            "ThiS is1 line\n",
            "ThiS is2 line\n",
            "ThiS is3 line\n",
            "ThiS is4 line\n",
            "ThiS is5 line\n",
            "ThiS is6 line\n",
            "ThiS is7 line\n",
            "ThiS is8 line\n",
            "ThiS is9 line\n",
            "new line 1\n",
            "new line 2\n"
          ],
          "name": "stdout"
        }
      ]
    },
    {
      "cell_type": "code",
      "metadata": {
        "id": "dkfCvyoucyAK",
        "colab_type": "code",
        "colab": {
          "base_uri": "https://localhost:8080/",
          "height": 35
        },
        "outputId": "58e286f0-fe9a-4e92-fb00-2c7a32ba5dab"
      },
      "source": [
        "def dataanalysiswordcount(filename,word):\n",
        "    f=open(filename,\"r\")\n",
        "    if f.mode==\"r\":\n",
        "        x=f.read()\n",
        "        lst=x.split()\n",
        "    cnt=lst.count(word)\n",
        "    return cnt\n",
        "print(dataanalysiswordcount(\"file1.txt\",\"line\"))"
      ],
      "execution_count": 30,
      "outputs": [
        {
          "output_type": "stream",
          "text": [
            "12\n"
          ],
          "name": "stdout"
        }
      ]
    },
    {
      "cell_type": "code",
      "metadata": {
        "id": "5bvlxuuwdpdr",
        "colab_type": "code",
        "colab": {
          "base_uri": "https://localhost:8080/",
          "height": 35
        },
        "outputId": "e699b897-2ec2-4695-ebe7-21cd98c7b4cc"
      },
      "source": [
        "def countcharacter(filename):\n",
        "    f=open(filename,\"r\")\n",
        "    if f.mode==\"r\":\n",
        "        x=f.read()\n",
        "        lst=list(x)\n",
        "    return len(lst)\n",
        "print(countcharacter(\"file1.txt\"))"
      ],
      "execution_count": 31,
      "outputs": [
        {
          "output_type": "stream",
          "text": [
            "162\n"
          ],
          "name": "stdout"
        }
      ]
    },
    {
      "cell_type": "code",
      "metadata": {
        "id": "XEjoiAWdnCVR",
        "colab_type": "code",
        "colab": {
          "base_uri": "https://localhost:8080/",
          "height": 35
        },
        "outputId": "511f5fcc-b375-4a82-beaf-c1e69798d27f"
      },
      "source": [
        "def countuppercase(filename):\n",
        "    cntupper=0\n",
        "    f=open(filename,\"r\")\n",
        "    if f.mode==\"r\":\n",
        "        x=f.read()\n",
        "        lst=list(x)\n",
        "    for i in lst:\n",
        "        if i.isupper():\n",
        "          cntupper+=1\n",
        "    return cntupper\n",
        "print(countuppercase(\"file1.txt\"))\n",
        "\n"
      ],
      "execution_count": 32,
      "outputs": [
        {
          "output_type": "stream",
          "text": [
            "20\n"
          ],
          "name": "stdout"
        }
      ]
    },
    {
      "cell_type": "markdown",
      "metadata": {
        "id": "qyoRa84dxLOE",
        "colab_type": "text"
      },
      "source": [
        "# regular expressions"
      ]
    },
    {
      "cell_type": "code",
      "metadata": {
        "id": "JWN-jKvJrdTB",
        "colab_type": "code",
        "colab": {
          "base_uri": "https://localhost:8080/",
          "height": 54
        },
        "outputId": "f10e02a0-7010-4b23-e04c-9bbe1a809996"
      },
      "source": [
        "import re\n",
        "def phonenovalidate(phone):\n",
        "  pattern='^[6-9][0-9]{9}$'\n",
        "  phone=str(phone)\n",
        "  if re.match(pattern,phone):\n",
        "    return True\n",
        "  return False\n",
        "print(phonenovalidate(19059489835))\n",
        "print(phonenovalidate(9851253155))\n"
      ],
      "execution_count": 39,
      "outputs": [
        {
          "output_type": "stream",
          "text": [
            "False\n",
            "True\n"
          ],
          "name": "stdout"
        }
      ]
    },
    {
      "cell_type": "code",
      "metadata": {
        "id": "ct0pUC0bOqge",
        "colab_type": "code",
        "colab": {}
      },
      "source": [
        "import re\n",
        "def validaterollno(number):\n",
        "    number=str(number)\n",
        "    pattern=\"^[1][5][2][U][1][A][0][1-9][0-6][0-9]$\";\n",
        "    if"
      ],
      "execution_count": 0,
      "outputs": []
    },
    {
      "cell_type": "code",
      "metadata": {
        "id": "rqEFR__0ajhT",
        "colab_type": "code",
        "colab": {}
      },
      "source": [
        "#regularexpression --password\n",
        "#parameters: [6-15]\n",
        "#accept lower case,uppercase,spl symbols(@,$,#,!)\n"
      ],
      "execution_count": 0,
      "outputs": []
    },
    {
      "cell_type": "code",
      "metadata": {
        "id": "Mf7K8Xfld_oi",
        "colab_type": "code",
        "colab": {}
      },
      "source": [
        "import re\n",
        "def validatepassword(s):\n",
        "    pattern=\"^[a-zA-Z0-9!@#$]{6,15}\""
      ],
      "execution_count": 0,
      "outputs": []
    }
  ]
}