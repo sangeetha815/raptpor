{
  "nbformat": 4,
  "nbformat_minor": 0,
  "metadata": {
    "colab": {
      "name": "python(26).ipynb",
      "version": "0.3.2",
      "provenance": [],
      "collapsed_sections": [],
      "include_colab_link": true
    },
    "kernelspec": {
      "name": "python3",
      "display_name": "Python 3"
    }
  },
  "cells": [
    {
      "cell_type": "markdown",
      "metadata": {
        "id": "view-in-github",
        "colab_type": "text"
      },
      "source": [
        "<a href=\"https://colab.research.google.com/github/sangeetha815/raptpor/blob/master/python(26).ipynb\" target=\"_parent\"><img src=\"https://colab.research.google.com/assets/colab-badge.svg\" alt=\"Open In Colab\"/></a>"
      ]
    },
    {
      "cell_type": "markdown",
      "metadata": {
        "id": "rbknS0O183mc",
        "colab_type": "text"
      },
      "source": [
        "# Boolean methods"
      ]
    },
    {
      "cell_type": "code",
      "metadata": {
        "id": "KWQx5h4n7qAQ",
        "colab_type": "code",
        "outputId": "ba5ddc83-1b2a-49b6-844f-8369572006c9",
        "colab": {
          "base_uri": "https://localhost:8080/",
          "height": 72
        }
      },
      "source": [
        "s='a'\n",
        "s1='HELLO'\n",
        "print(s1.islower())\n",
        "print(s.islower())\n",
        "\n",
        "print(s1.isupper())"
      ],
      "execution_count": 0,
      "outputs": [
        {
          "output_type": "stream",
          "text": [
            "True\n",
            "False\n",
            "True\n"
          ],
          "name": "stdout"
        }
      ]
    },
    {
      "cell_type": "code",
      "metadata": {
        "id": "s7KR-0Iu-OaL",
        "colab_type": "code",
        "outputId": "efb7c389-bb47-4494-ea2a-ce5475c50fb0",
        "colab": {
          "base_uri": "https://localhost:8080/",
          "height": 54
        }
      },
      "source": [
        "string= \"sangeetha chelikani\"\n",
        "string1=\"PADMAVATHI CHELIKANI\"\n",
        "print(string.upper())\n",
        "print(string1.lower())"
      ],
      "execution_count": 0,
      "outputs": [
        {
          "output_type": "stream",
          "text": [
            "SANGEETHA CHELIKANI\n",
            "padmavathi chelikani\n"
          ],
          "name": "stdout"
        }
      ]
    },
    {
      "cell_type": "code",
      "metadata": {
        "id": "Pfw16sCx-sxv",
        "colab_type": "code",
        "outputId": "5d937c0f-1424-4b5e-e259-7fed541b68ad",
        "colab": {
          "base_uri": "https://localhost:8080/",
          "height": 54
        }
      },
      "source": [
        "s=\"application\"\n",
        "s1=\"APp1889\"\n",
        "print(s1.isalpha())\n",
        "print(s.isalpha())\n"
      ],
      "execution_count": 0,
      "outputs": [
        {
          "output_type": "stream",
          "text": [
            "False\n",
            "True\n"
          ],
          "name": "stdout"
        }
      ]
    },
    {
      "cell_type": "code",
      "metadata": {
        "id": "57fzPAyV_xxN",
        "colab_type": "code",
        "outputId": "f6d28715-07de-4c6f-f473-4d5a0a8af80d",
        "colab": {
          "base_uri": "https://localhost:8080/",
          "height": 54
        }
      },
      "source": [
        "s=\"5324\"\n",
        "s1=\"APp1889\"\n",
        "print(s1.isnumeric())\n",
        "print(s.isnumeric())"
      ],
      "execution_count": 0,
      "outputs": [
        {
          "output_type": "stream",
          "text": [
            "False\n",
            "True\n"
          ],
          "name": "stdout"
        }
      ]
    },
    {
      "cell_type": "code",
      "metadata": {
        "id": "R5fPjysqAM5w",
        "colab_type": "code",
        "outputId": "be56b48e-dd30-42f7-b383-ac3126a08587",
        "colab": {
          "base_uri": "https://localhost:8080/",
          "height": 72
        }
      },
      "source": [
        "s=\"python program\"\n",
        "s1=\"Python Program\"\n",
        "print(s1.istitle())\n",
        "print(s.istitle())\n",
        "print(s.isspace())"
      ],
      "execution_count": 0,
      "outputs": [
        {
          "output_type": "stream",
          "text": [
            "True\n",
            "False\n",
            "False\n"
          ],
          "name": "stdout"
        }
      ]
    },
    {
      "cell_type": "code",
      "metadata": {
        "id": "iZJWEe6DAx7T",
        "colab_type": "code",
        "outputId": "0cc24550-dbd3-42e9-a5cc-329b792ca582",
        "colab": {
          "base_uri": "https://localhost:8080/",
          "height": 35
        }
      },
      "source": [
        "print(\",\".join([\"python\",\"easy\",\"join\"]))\n"
      ],
      "execution_count": 0,
      "outputs": [
        {
          "output_type": "stream",
          "text": [
            "python,easy,join\n"
          ],
          "name": "stdout"
        }
      ]
    },
    {
      "cell_type": "code",
      "metadata": {
        "id": "cLYQV-LdDtsC",
        "colab_type": "code",
        "outputId": "e4889b16-8869-47d8-8704-98500538d74d",
        "colab": {
          "base_uri": "https://localhost:8080/",
          "height": 35
        }
      },
      "source": [
        "lst=[\",\"]\n",
        "print(\" ,\".join(lst))\n",
        "\n"
      ],
      "execution_count": 0,
      "outputs": [
        {
          "output_type": "stream",
          "text": [
            ",\n"
          ],
          "name": "stdout"
        }
      ]
    },
    {
      "cell_type": "code",
      "metadata": {
        "id": "p5ykemyyESI1",
        "colab_type": "code",
        "outputId": "257d3a8b-6b89-4bba-a394-ad40453a7931",
        "colab": {
          "base_uri": "https://localhost:8080/",
          "height": 35
        }
      },
      "source": [
        "str=\"python\"\n",
        "print(\",\".join(str))\n",
        "\n"
      ],
      "execution_count": 0,
      "outputs": [
        {
          "output_type": "stream",
          "text": [
            "p,y,t,h,o,n\n"
          ],
          "name": "stdout"
        }
      ]
    },
    {
      "cell_type": "code",
      "metadata": {
        "id": "8oYVEkpzEsU0",
        "colab_type": "code",
        "outputId": "a77c567f-2f1c-4f1d-d6a4-9cfe9214a2a0",
        "colab": {
          "base_uri": "https://localhost:8080/",
          "height": 54
        }
      },
      "source": [
        "s=\"python is easy\"\n",
        "print(s.split(\"a\"))\n",
        "print(s.split())\n",
        "\n"
      ],
      "execution_count": 0,
      "outputs": [
        {
          "output_type": "stream",
          "text": [
            "['python is e', 'sy']\n",
            "['python', 'is', 'easy']\n"
          ],
          "name": "stdout"
        }
      ]
    },
    {
      "cell_type": "code",
      "metadata": {
        "id": "yDQNBxkfE7I_",
        "colab_type": "code",
        "outputId": "6d7e333a-da1f-4e8d-f5b2-3be23fd02f10",
        "colab": {
          "base_uri": "https://localhost:8080/",
          "height": 35
        }
      },
      "source": [
        "s=\"python is easy\"\n",
        "lst=s.split()\n",
        "print(lst.index(\"easy\"))"
      ],
      "execution_count": 0,
      "outputs": [
        {
          "output_type": "stream",
          "text": [
            "2\n"
          ],
          "name": "stdout"
        }
      ]
    },
    {
      "cell_type": "code",
      "metadata": {
        "id": "iNLRFKM0E7p3",
        "colab_type": "code",
        "outputId": "31508799-b89f-4772-f810-44d1a04ae79b",
        "colab": {
          "base_uri": "https://localhost:8080/",
          "height": 35
        }
      },
      "source": [
        "s=\"python is easy\"\n",
        "lst=list(s)\n",
        "print(lst)"
      ],
      "execution_count": 0,
      "outputs": [
        {
          "output_type": "stream",
          "text": [
            "['p', 'y', 't', 'h', 'o', 'n', ' ', 'i', 's', ' ', 'e', 'a', 's', 'y']\n"
          ],
          "name": "stdout"
        }
      ]
    },
    {
      "cell_type": "code",
      "metadata": {
        "id": "s07I-Kw5H7RE",
        "colab_type": "code",
        "outputId": "77d71c35-5aa0-4bb2-8340-35e2dc5f420b",
        "colab": {
          "base_uri": "https://localhost:8080/",
          "height": 35
        }
      },
      "source": [
        "s=\"python program\"\n",
        "print(s.replace(\"gr\",\"application\"))"
      ],
      "execution_count": 0,
      "outputs": [
        {
          "output_type": "stream",
          "text": [
            "python proapplicationam\n"
          ],
          "name": "stdout"
        }
      ]
    },
    {
      "cell_type": "markdown",
      "metadata": {
        "id": "xBBJd6roN4Iv",
        "colab_type": "text"
      },
      "source": [
        "# Python----Tuples"
      ]
    },
    {
      "cell_type": "code",
      "metadata": {
        "id": "jlwpB43VIhYk",
        "colab_type": "code",
        "outputId": "e37e6d7a-a14a-49b1-8972-68dbecacbd3d",
        "colab": {
          "base_uri": "https://localhost:8080/",
          "height": 54
        }
      },
      "source": [
        "t1=(\"python\",\"program\",1563,1238,\"machine learning\",\"AI\")\n",
        "t2=(1,2,3,4,5)\n",
        "print(t1)\n",
        "print(t2)"
      ],
      "execution_count": 0,
      "outputs": [
        {
          "output_type": "stream",
          "text": [
            "('python', 'program', 1563, 1238, 'machine learning', 'AI')\n",
            "(1, 2, 3, 4, 5)\n"
          ],
          "name": "stdout"
        }
      ]
    },
    {
      "cell_type": "code",
      "metadata": {
        "id": "pqVRU196PolW",
        "colab_type": "code",
        "outputId": "44742473-b721-4d92-e39c-f5c90488adda",
        "colab": {
          "base_uri": "https://localhost:8080/",
          "height": 108
        }
      },
      "source": [
        "t1=(\"python\",\"program\",1563,1238,\"machine learning\",\"AI\")\n",
        "print(\"t1[0]=\",t1[0])\n",
        "print(\"t1[2]=\",t1[2])\n",
        "print(\"t1[-1]=\",t1[-1])\n",
        "print(\"t1[1:4]=\",t1[1:4])\n",
        "print(\"t1[2:-2]=\",t1[2:-2])\n"
      ],
      "execution_count": 0,
      "outputs": [
        {
          "output_type": "stream",
          "text": [
            "t1[0]= python\n",
            "t1[2]= 1563\n",
            "t1[-1]= AI\n",
            "t1[1:4]= ('program', 1563, 1238)\n",
            "t1[2:-2]= (1563, 1238)\n"
          ],
          "name": "stdout"
        }
      ]
    },
    {
      "cell_type": "code",
      "metadata": {
        "id": "85FazEKtQOLP",
        "colab_type": "code",
        "outputId": "b084e759-ca5c-4608-a8a1-168a80bba818",
        "colab": {
          "base_uri": "https://localhost:8080/",
          "height": 54
        }
      },
      "source": [
        "t1=(\"python\",\"program\",1563,1238,\"machine learning\",\"AI\")\n",
        "print(t1)\n",
        "del t1\n",
        "t1=(\"hi\")\n",
        "print(t1)"
      ],
      "execution_count": 0,
      "outputs": [
        {
          "output_type": "stream",
          "text": [
            "('python', 'program', 1563, 1238, 'machine learning', 'AI')\n",
            "hi\n"
          ],
          "name": "stdout"
        }
      ]
    },
    {
      "cell_type": "code",
      "metadata": {
        "id": "_rRygk4vRhUc",
        "colab_type": "code",
        "outputId": "f0889850-c4d5-4962-8ae4-7346c0a83b26",
        "colab": {
          "base_uri": "https://localhost:8080/",
          "height": 35
        }
      },
      "source": [
        "t1=(\"python\",\"program\")\n",
        "t2=(1953,1468,\"AI\",\"MI\")\n",
        "t3=t1+t2\n",
        "print(t3)"
      ],
      "execution_count": 0,
      "outputs": [
        {
          "output_type": "stream",
          "text": [
            "('python', 'program', 1953, 1468, 'AI', 'MI')\n"
          ],
          "name": "stdout"
        }
      ]
    },
    {
      "cell_type": "code",
      "metadata": {
        "id": "sl8049QHSosf",
        "colab_type": "code",
        "outputId": "bbfbe18e-d392-4f21-a66e-56d7655b8e44",
        "colab": {
          "base_uri": "https://localhost:8080/",
          "height": 280
        }
      },
      "source": [
        "t1=(12,3,4,85,16)\n",
        "t2=(1953,1468,\"AI\",\"MI\")\n",
        "print(max(t1))\n",
        "print(len(t2))\n",
        "print(min(t1))\n",
        "a=cmp(t1,t2)\n",
        "print(a)"
      ],
      "execution_count": 0,
      "outputs": [
        {
          "output_type": "stream",
          "text": [
            "85\n",
            "4\n",
            "3\n"
          ],
          "name": "stdout"
        },
        {
          "output_type": "error",
          "ename": "NameError",
          "evalue": "ignored",
          "traceback": [
            "\u001b[0;31m---------------------------------------------------------------------------\u001b[0m",
            "\u001b[0;31mNameError\u001b[0m                                 Traceback (most recent call last)",
            "\u001b[0;32m<ipython-input-47-8bfa6111eaee>\u001b[0m in \u001b[0;36m<module>\u001b[0;34m()\u001b[0m\n\u001b[1;32m      4\u001b[0m \u001b[0mprint\u001b[0m\u001b[0;34m(\u001b[0m\u001b[0mlen\u001b[0m\u001b[0;34m(\u001b[0m\u001b[0mt2\u001b[0m\u001b[0;34m)\u001b[0m\u001b[0;34m)\u001b[0m\u001b[0;34m\u001b[0m\u001b[0;34m\u001b[0m\u001b[0m\n\u001b[1;32m      5\u001b[0m \u001b[0mprint\u001b[0m\u001b[0;34m(\u001b[0m\u001b[0mmin\u001b[0m\u001b[0;34m(\u001b[0m\u001b[0mt1\u001b[0m\u001b[0;34m)\u001b[0m\u001b[0;34m)\u001b[0m\u001b[0;34m\u001b[0m\u001b[0;34m\u001b[0m\u001b[0m\n\u001b[0;32m----> 6\u001b[0;31m \u001b[0ma\u001b[0m\u001b[0;34m=\u001b[0m\u001b[0mcmp\u001b[0m\u001b[0;34m(\u001b[0m\u001b[0mt1\u001b[0m\u001b[0;34m,\u001b[0m\u001b[0mt2\u001b[0m\u001b[0;34m)\u001b[0m\u001b[0;34m\u001b[0m\u001b[0;34m\u001b[0m\u001b[0m\n\u001b[0m\u001b[1;32m      7\u001b[0m \u001b[0mprint\u001b[0m\u001b[0;34m(\u001b[0m\u001b[0ma\u001b[0m\u001b[0;34m)\u001b[0m\u001b[0;34m\u001b[0m\u001b[0;34m\u001b[0m\u001b[0m\n",
            "\u001b[0;31mNameError\u001b[0m: name 'cmp' is not defined"
          ]
        }
      ]
    },
    {
      "cell_type": "code",
      "metadata": {
        "id": "Y0x-hcNnVWAl",
        "colab_type": "code",
        "colab": {
          "base_uri": "https://localhost:8080/",
          "height": 72
        },
        "outputId": "39551a6d-a6ed-4155-f50e-87d6c08580e6"
      },
      "source": [
        "user1 = {'Name':'Anil','Age':22,'EmailID':'anil@gamil.com','MobileNumber':'9909485770'}\n",
        "user2 = user1.copy()\n",
        "print(user1.values())\n",
        "print(user2.values())\n",
        "print(user1.keys())"
      ],
      "execution_count": 1,
      "outputs": [
        {
          "output_type": "stream",
          "text": [
            "dict_values(['Anil', 22, 'anil@gamil.com', '9909485770'])\n",
            "dict_values(['Anil', 22, 'anil@gamil.com', '9909485770'])\n",
            "dict_keys(['Name', 'Age', 'EmailID', 'MobileNumber'])\n"
          ],
          "name": "stdout"
        }
      ]
    },
    {
      "cell_type": "code",
      "metadata": {
        "id": "d4pGOczbEdGd",
        "colab_type": "code",
        "colab": {
          "base_uri": "https://localhost:8080/",
          "height": 72
        },
        "outputId": "535fed33-23bf-4322-bde9-76b7a4ae3ffe"
      },
      "source": [
        "contacts = {}\n",
        "def addContact(name,phone):\n",
        "  if name not in contacts :\n",
        "    contacts[name] = phone\n",
        "    print(\"Contact %s added \" % name)\n",
        "  else:\n",
        "    print(\"Contact %s already exists\" % name)\n",
        "  return  \n",
        "addContact(\"Anil\",9859686891)\n",
        "addContact(\"Sriha\",8008091198)\n",
        "addContact(\"kranth\",9859686654)"
      ],
      "execution_count": 6,
      "outputs": [
        {
          "output_type": "stream",
          "text": [
            "Contact Anil added \n",
            "Contact Sriha added \n",
            "Contact kranth added \n"
          ],
          "name": "stdout"
        }
      ]
    },
    {
      "cell_type": "code",
      "metadata": {
        "id": "InAN7RSZEm-n",
        "colab_type": "code",
        "colab": {
          "base_uri": "https://localhost:8080/",
          "height": 90
        },
        "outputId": "51f70eb5-5779-45f0-c84b-bc68c2ce9a7f"
      },
      "source": [
        " def searchContact(name):\n",
        "  if name in contacts:\n",
        "    print(name, \": \",contacts[name])\n",
        "  else:\n",
        "    print(\" %s does not \"% name)\n",
        "  return\n",
        "\n",
        "searchContact(\"Anil\")\n",
        "searchContact(\"Ajay\")\n",
        "searchContact(\"Sriha\")\n",
        "searchContact(\"kranth\")"
      ],
      "execution_count": 7,
      "outputs": [
        {
          "output_type": "stream",
          "text": [
            "Anil :  9859686891\n",
            " Ajay does not \n",
            "Sriha :  8008091198\n",
            "kranth :  9859686654\n"
          ],
          "name": "stdout"
        }
      ]
    },
    {
      "cell_type": "code",
      "metadata": {
        "id": "KbJeNUOSF7jv",
        "colab_type": "code",
        "colab": {
          "base_uri": "https://localhost:8080/",
          "height": 35
        },
        "outputId": "769f4a10-64d2-4f07-b080-952e00205676"
      },
      "source": [
        "def importContacts(newContacts):\n",
        "    contacts.update(newContacts)\n",
        "    print(len(newContacts.keys()),\"contacts added succesfull\")\n",
        "    return\n",
        "newContacts={'dinesh':9632145687,'ajay':9874563214}\n",
        "importContacts(newContacts)"
      ],
      "execution_count": 10,
      "outputs": [
        {
          "output_type": "stream",
          "text": [
            "2 contacts added succesfull\n"
          ],
          "name": "stdout"
        }
      ]
    },
    {
      "cell_type": "code",
      "metadata": {
        "id": "ozmEysrOJcd4",
        "colab_type": "code",
        "colab": {
          "base_uri": "https://localhost:8080/",
          "height": 55
        },
        "outputId": "b2ebd50d-a1e8-4b8a-8ce6-b2ce230f54dc"
      },
      "source": [
        "print(contacts)"
      ],
      "execution_count": 11,
      "outputs": [
        {
          "output_type": "stream",
          "text": [
            "{'Anil': 9859686891, 'Sriha': 8008091198, 'kranth': 9859686654, 'dinesh': 9632145687, 'ajay': 9874563214}\n"
          ],
          "name": "stdout"
        }
      ]
    },
    {
      "cell_type": "code",
      "metadata": {
        "id": "U7T-t2UVJ6ni",
        "colab_type": "code",
        "colab": {
          "base_uri": "https://localhost:8080/",
          "height": 135
        },
        "outputId": "104e5984-df48-479e-eb52-1cb6b7037195"
      },
      "source": [
        "def deleteContact(name):\n",
        "    if name in contact:\n",
        "       del contacts[name]\n",
        "      print(name,\":deleted\")\n",
        "    else:\n",
        "      print(name,\"not exists\")\n",
        "    return\n",
        "  \n",
        "deleteContact(\"harsha\")\n",
        "deleteContact(\"neveen\")\n",
        "                  "
      ],
      "execution_count": 18,
      "outputs": [
        {
          "output_type": "error",
          "ename": "IndentationError",
          "evalue": "ignored",
          "traceback": [
            "\u001b[0;36m  File \u001b[0;32m\"<ipython-input-18-c4fd96b86507>\"\u001b[0;36m, line \u001b[0;32m4\u001b[0m\n\u001b[0;31m    print(name,\":deleted\")\u001b[0m\n\u001b[0m                          ^\u001b[0m\n\u001b[0;31mIndentationError\u001b[0m\u001b[0;31m:\u001b[0m unindent does not match any outer indentation level\n"
          ]
        }
      ]
    },
    {
      "cell_type": "code",
      "metadata": {
        "id": "BF1cxZu-MKPz",
        "colab_type": "code",
        "colab": {
          "base_uri": "https://localhost:8080/",
          "height": 54
        },
        "outputId": "5482f420-cdbf-4b7f-c6ba-fbdfb0389cc8"
      },
      "source": [
        "def deleteContact(name):\n",
        "  if name in contacts:\n",
        "    del contacts[name]\n",
        "    print(name,\": is deleted from th contacts\")\n",
        "  else:\n",
        "    print(name,\" is not exists in the contacts\")\n",
        "  return\n",
        "deleteContact(\"Anil\")\n",
        "deleteContact(\"Chimpang\")"
      ],
      "execution_count": 16,
      "outputs": [
        {
          "output_type": "stream",
          "text": [
            "Anil : is deleted from th contacts\n",
            "Chimpang  is not exists in the contacts\n"
          ],
          "name": "stdout"
        }
      ]
    },
    {
      "cell_type": "code",
      "metadata": {
        "id": "8leiivreMpZN",
        "colab_type": "code",
        "colab": {
          "base_uri": "https://localhost:8080/",
          "height": 55
        },
        "outputId": "9c049e71-9f78-4eae-8c90-552835e8aff7"
      },
      "source": [
        "print(contacts)"
      ],
      "execution_count": 21,
      "outputs": [
        {
          "output_type": "stream",
          "text": [
            "{'Sriha': 8008091198, 'kranth': 9859686654, 'dinesh': 9632145687, 'ajay': 9874563214}\n"
          ],
          "name": "stdout"
        }
      ]
    },
    {
      "cell_type": "code",
      "metadata": {
        "id": "xG8mJfRSNxMC",
        "colab_type": "code",
        "colab": {
          "base_uri": "https://localhost:8080/",
          "height": 54
        },
        "outputId": "19ceb231-c56d-4faf-9e63-d7c03d2f66ea"
      },
      "source": [
        "def updateContact(name,phone):\n",
        "  if name in contacts:\n",
        "    contacts[name]=phone\n",
        "    print(name,\":updated\")\n",
        "  else:\n",
        "    print(name,\" is not exists in the contacts\")\n",
        "  return\n",
        "\n",
        "updateContact(\"Anil\",7894561236)\n",
        "updateContact(\"kranth\",7896541237)"
      ],
      "execution_count": 27,
      "outputs": [
        {
          "output_type": "stream",
          "text": [
            "Anil  is not exists in the contacts\n",
            "kranth :updated\n"
          ],
          "name": "stdout"
        }
      ]
    },
    {
      "cell_type": "markdown",
      "metadata": {
        "id": "TzWFmIf_TfxF",
        "colab_type": "text"
      },
      "source": [
        "# packages and modules"
      ]
    },
    {
      "cell_type": "code",
      "metadata": {
        "id": "sBncGlCrP0RE",
        "colab_type": "code",
        "colab": {
          "base_uri": "https://localhost:8080/",
          "height": 35
        },
        "outputId": "fce47d9f-b5c8-4054-d5d8-a773fa65a66d"
      },
      "source": [
        "from math import floor as f1\n",
        "f1(123.456)\n"
      ],
      "execution_count": 28,
      "outputs": [
        {
          "output_type": "execute_result",
          "data": {
            "text/plain": [
              "123"
            ]
          },
          "metadata": {
            "tags": []
          },
          "execution_count": 28
        }
      ]
    },
    {
      "cell_type": "code",
      "metadata": {
        "id": "7q0PlaI5UUfU",
        "colab_type": "code",
        "colab": {}
      },
      "source": [
        ""
      ],
      "execution_count": 0,
      "outputs": []
    }
  ]
}