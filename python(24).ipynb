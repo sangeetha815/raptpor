{
  "nbformat": 4,
  "nbformat_minor": 0,
  "metadata": {
    "colab": {
      "name": "python(24).ipynb",
      "version": "0.3.2",
      "provenance": [],
      "include_colab_link": true
    },
    "kernelspec": {
      "name": "python3",
      "display_name": "Python 3"
    }
  },
  "cells": [
    {
      "cell_type": "markdown",
      "metadata": {
        "id": "view-in-github",
        "colab_type": "text"
      },
      "source": [
        "<a href=\"https://colab.research.google.com/github/sangeetha815/raptpor/blob/master/python(24).ipynb\" target=\"_parent\"><img src=\"https://colab.research.google.com/assets/colab-badge.svg\" alt=\"Open In Colab\"/></a>"
      ]
    },
    {
      "cell_type": "markdown",
      "metadata": {
        "id": "tJ9NryiUt0mR",
        "colab_type": "text"
      },
      "source": [
        "# 1) factors list of given number\n"
      ]
    },
    {
      "cell_type": "code",
      "metadata": {
        "id": "CEttzb-7t_gh",
        "colab_type": "code",
        "outputId": "ea271db6-7dae-48dd-ac41-4161beefe1db",
        "colab": {
          "base_uri": "https://localhost:8080/",
          "height": 102
        }
      },
      "source": [
        "def factorslist(n):\n",
        "  i=1\n",
        "  while(i!=n):\n",
        "    if(n%i==0):\n",
        "      print(i)\n",
        "    i=i+1\n",
        "  return\n",
        "factorslist(12)"
      ],
      "execution_count": 0,
      "outputs": [
        {
          "output_type": "stream",
          "text": [
            "1\n",
            "2\n",
            "3\n",
            "4\n",
            "6\n"
          ],
          "name": "stdout"
        }
      ]
    },
    {
      "cell_type": "markdown",
      "metadata": {
        "id": "RDM-nduNxLIz",
        "colab_type": "text"
      },
      "source": [
        "# 2)list in python"
      ]
    },
    {
      "cell_type": "code",
      "metadata": {
        "id": "ZY7slklLzrRx",
        "colab_type": "code",
        "colab": {
          "base_uri": "https://localhost:8080/",
          "height": 72
        },
        "outputId": "dbf0ef5e-f55d-4f33-ddf2-a532654e0e89"
      },
      "source": [
        "list1=[1,2,3,4,5]\n",
        "print(list1)\n",
        "print(list1[0])\n",
        "print(list1[4])"
      ],
      "execution_count": 10,
      "outputs": [
        {
          "output_type": "stream",
          "text": [
            "[1, 2, 3, 4, 5]\n",
            "1\n",
            "5\n"
          ],
          "name": "stdout"
        }
      ]
    },
    {
      "cell_type": "code",
      "metadata": {
        "id": "oFoY1sNP0qFl",
        "colab_type": "code",
        "colab": {
          "base_uri": "https://localhost:8080/",
          "height": 108
        },
        "outputId": "50553eb3-1cc1-41c5-8498-b92f149dd224"
      },
      "source": [
        "list2=[\"sangeetha\",\"raj\",\"padma\",\"krish\"]\n",
        "for x in list2:\n",
        "  print(x)\n",
        "print(list2[3])"
      ],
      "execution_count": 14,
      "outputs": [
        {
          "output_type": "stream",
          "text": [
            "sangeetha\n",
            "raj\n",
            "padma\n",
            "krish\n",
            "krish\n"
          ],
          "name": "stdout"
        }
      ]
    },
    {
      "cell_type": "code",
      "metadata": {
        "id": "JL-Np-0j2UNK",
        "colab_type": "code",
        "colab": {
          "base_uri": "https://localhost:8080/",
          "height": 235
        },
        "outputId": "ee6ede84-395a-425c-ad9d-71617b447345"
      },
      "source": [
        "#list example with particular index\n",
        "list1=[1,2,3,4,5,6,7,8,9]\n",
        "for x in list1:\n",
        "  print(x)\n",
        "print(list1[5])\n",
        "print(list1[3:7])\n",
        "print(list1[:7])"
      ],
      "execution_count": 17,
      "outputs": [
        {
          "output_type": "stream",
          "text": [
            "1\n",
            "2\n",
            "3\n",
            "4\n",
            "5\n",
            "6\n",
            "7\n",
            "8\n",
            "9\n",
            "6\n",
            "[4, 5, 6, 7]\n",
            "[1, 2, 3, 4, 5, 6, 7]\n"
          ],
          "name": "stdout"
        }
      ]
    },
    {
      "cell_type": "code",
      "metadata": {
        "id": "fA8G0hB-4wFJ",
        "colab_type": "code",
        "colab": {
          "base_uri": "https://localhost:8080/",
          "height": 199
        },
        "outputId": "a2cae3ff-d48d-46bc-cae5-92afd869e0c8"
      },
      "source": [
        "list1=[1,2,3,4,5,6,7,8,9,10]\n",
        "for x in list1:\n",
        "  print(x,end=\" \")\n",
        "  \n",
        "print()\n",
        "print(list1[1:-1])\n",
        "print(list1[2:-2])  \n",
        "print(list1[::2])\n",
        "print(list1[::3])\n",
        "print(list1[::4])\n",
        "print(list1[::5])\n",
        "print(list1[::-2])\n",
        "print(list1[-1])\n",
        "print(list1[-2])\n",
        "           "
      ],
      "execution_count": 29,
      "outputs": [
        {
          "output_type": "stream",
          "text": [
            "1 2 3 4 5 6 7 8 9 10 \n",
            "[2, 3, 4, 5, 6, 7, 8, 9]\n",
            "[3, 4, 5, 6, 7, 8]\n",
            "[1, 3, 5, 7, 9]\n",
            "[1, 4, 7, 10]\n",
            "[1, 5, 9]\n",
            "[1, 6]\n",
            "[10, 8, 6, 4, 2]\n",
            "10\n",
            "9\n"
          ],
          "name": "stdout"
        }
      ]
    },
    {
      "cell_type": "markdown",
      "metadata": {
        "id": "ZDIHSxv59AYO",
        "colab_type": "text"
      },
      "source": [
        "# 3)list with range() function"
      ]
    },
    {
      "cell_type": "code",
      "metadata": {
        "id": "ywhiwUoc9JFt",
        "colab_type": "code",
        "colab": {
          "base_uri": "https://localhost:8080/",
          "height": 126
        },
        "outputId": "da1d573b-b873-4a9f-851f-e07720362c82"
      },
      "source": [
        "list2=[\"sangeetha\",\"raj\",\"padma\",\"krish\",1]\n",
        "print(list2)\n",
        "\n",
        "list2[2]=15\n",
        "print(list2)\n",
        "\n",
        "del list2[3]\n",
        "print(list2)\n",
        "\n",
        "list2[1]=\"gitam\"\n",
        "print(list2)\n",
        "\n",
        "list3=[1,2,3]\n",
        "print(list3)\n",
        "print(list2+list3+list1)"
      ],
      "execution_count": 37,
      "outputs": [
        {
          "output_type": "stream",
          "text": [
            "['sangeetha', 'raj', 'padma', 'krish', 1]\n",
            "['sangeetha', 'raj', 15, 'krish', 1]\n",
            "['sangeetha', 'raj', 15, 1]\n",
            "['sangeetha', 'gitam', 15, 1]\n",
            "[1, 2, 3]\n",
            "['sangeetha', 'gitam', 15, 1, 1, 2, 3, 1, 2, 3, 4, 5, 6, 7, 8, 9, 10]\n"
          ],
          "name": "stdout"
        }
      ]
    },
    {
      "cell_type": "code",
      "metadata": {
        "id": "VR73t-nlAg0q",
        "colab_type": "code",
        "colab": {
          "base_uri": "https://localhost:8080/",
          "height": 72
        },
        "outputId": "be5e65ef-6d15-475b-cd91-c35fd248d194"
      },
      "source": [
        "print(len(list1))\n",
        "list1.append(15)\n",
        "list1.append(150)\n",
        "list1.append(1)\n",
        "list1.append(3)\n",
        "list1.append(1)\n",
        "print(list1)\n",
        "print(list1.count(3))"
      ],
      "execution_count": 40,
      "outputs": [
        {
          "output_type": "stream",
          "text": [
            "20\n",
            "[1, 2, 3, 4, 5, 6, 7, 8, 9, 10, 15, 150, 1, 3, 1, 15, 150, 1, 3, 1, 15, 150, 1, 3, 1]\n",
            "4\n"
          ],
          "name": "stdout"
        }
      ]
    },
    {
      "cell_type": "code",
      "metadata": {
        "id": "WRBvcbydM5L1",
        "colab_type": "code",
        "colab": {
          "base_uri": "https://localhost:8080/",
          "height": 145
        },
        "outputId": "868b1b09-2e4e-4e03-ab11-7dff222fd4d8"
      },
      "source": [
        "list2=[\"sangeetha\",\"raj\",\"padma\",\"krish\",1,5,\"python\"]\n",
        "print(list2)\n",
        "list2.index(\"python\")\n",
        "list2.index(5)\n",
        "list2.insert(2,2004)\n",
        "print(list2)\n",
        "list2.remove(\"python\")\n",
        "print(list2)\n",
        "list2.remove(2004)\n",
        "print(list2)\n",
        "list2.remove(1)\n",
        "print(list2)\n",
        "list2.remove(5)\n",
        "print(list2)\n",
        "list2.reverse()\n",
        "print(list2)"
      ],
      "execution_count": 58,
      "outputs": [
        {
          "output_type": "stream",
          "text": [
            "['sangeetha', 'raj', 'padma', 'krish', 1, 5, 'python']\n",
            "['sangeetha', 'raj', 2004, 'padma', 'krish', 1, 5, 'python']\n",
            "['sangeetha', 'raj', 2004, 'padma', 'krish', 1, 5]\n",
            "['sangeetha', 'raj', 'padma', 'krish', 1, 5]\n",
            "['sangeetha', 'raj', 'padma', 'krish', 5]\n",
            "['sangeetha', 'raj', 'padma', 'krish']\n",
            "['krish', 'padma', 'raj', 'sangeetha']\n"
          ],
          "name": "stdout"
        }
      ]
    },
    {
      "cell_type": "markdown",
      "metadata": {
        "id": "J8Zq-3qVWRHv",
        "colab_type": "text"
      },
      "source": [
        "# Linear search"
      ]
    },
    {
      "cell_type": "code",
      "metadata": {
        "id": "3QDGiKriOAgx",
        "colab_type": "code",
        "colab": {
          "base_uri": "https://localhost:8080/",
          "height": 35
        },
        "outputId": "403bd636-487c-48e1-90f3-2326e03b9e1f"
      },
      "source": [
        "def linearsearch(a,tarItem):\n",
        "  flag=0;\n",
        "  for i in range(len(a)):\n",
        "    if a[i]==tarItem:\n",
        "      flag=1;\n",
        "      break\n",
        "  if(flag!=0):\n",
        "    print(\"target item is found\")\n",
        "  else:\n",
        "    print(\"target item is not found\")\n",
        "  \n",
        "a=[1,5,9,3,4,7,8,6,2]\n",
        "linearsearch(a,22)"
      ],
      "execution_count": 64,
      "outputs": [
        {
          "output_type": "stream",
          "text": [
            "target item is not found\n"
          ],
          "name": "stdout"
        }
      ]
    },
    {
      "cell_type": "code",
      "metadata": {
        "id": "kZAD9JkJaXSH",
        "colab_type": "code",
        "colab": {
          "base_uri": "https://localhost:8080/",
          "height": 35
        },
        "outputId": "0bcc913f-fc9b-4ff9-ae09-9568870fd8b9"
      },
      "source": [
        "def linearsearchduplicate(a,tarItem):\n",
        "  flag=0;\n",
        "  for i in range(len(a)):\n",
        "    if a[i]==tarItem:\n",
        "      flag=flag+1;\n",
        "      \n",
        "  print(flag) \n",
        "    \n",
        "a=[1,9,5,9,3,4,7,8,9,6,2]\n",
        "linearsearchduplicate(a,9)"
      ],
      "execution_count": 73,
      "outputs": [
        {
          "output_type": "stream",
          "text": [
            "3\n"
          ],
          "name": "stdout"
        }
      ]
    },
    {
      "cell_type": "code",
      "metadata": {
        "id": "xaryryEwcqGc",
        "colab_type": "code",
        "colab": {
          "base_uri": "https://localhost:8080/",
          "height": 35
        },
        "outputId": "bfadea2b-a845-432a-a5ba-5475b52696c7"
      },
      "source": [
        "def linearsearchduplicate(a,tarItem):\n",
        "  flag=0;\n",
        "  for i in range(len(a)):\n",
        "    if a[i]==tarItem:\n",
        "      print(i,end=\" \")\n",
        "      \n",
        "a=[1,5,9,3,4,9,7,8,9,6,2]\n",
        "linearsearchduplicate(a,9)\n",
        "      "
      ],
      "execution_count": 71,
      "outputs": [
        {
          "output_type": "stream",
          "text": [
            "2 5 8 "
          ],
          "name": "stdout"
        }
      ]
    },
    {
      "cell_type": "code",
      "metadata": {
        "id": "orsX3neSw0vW",
        "colab_type": "code",
        "colab": {
          "base_uri": "https://localhost:8080/",
          "height": 72
        },
        "outputId": "1421d434-5c4c-4f72-e0d3-314e58eb9041"
      },
      "source": [
        "def linearsearchduplicate(a,tarItem):\n",
        "  for i in range(len(a)):\n",
        "     if a[i]==tarItem:\n",
        "        j=0\n",
        "        while j!=i+1:\n",
        "          print(\"!\",end=\" \")\n",
        "          j=j+1\n",
        "        print()\n",
        "           \n",
        "       \n",
        "a=[1,5,9,3,4,9,7,8,9,6,2]\n",
        "linearsearchduplicate(a,9)  \n",
        "      "
      ],
      "execution_count": 79,
      "outputs": [
        {
          "output_type": "stream",
          "text": [
            "! ! ! \n",
            "! ! ! ! ! ! \n",
            "! ! ! ! ! ! ! ! ! \n"
          ],
          "name": "stdout"
        }
      ]
    },
    {
      "cell_type": "code",
      "metadata": {
        "id": "n6_qIDHm06Dd",
        "colab_type": "code",
        "colab": {
          "base_uri": "https://localhost:8080/",
          "height": 35
        },
        "outputId": "06bee6fc-6a2e-4c9d-b8da-fe00a6eadc4a"
      },
      "source": [
        "def linearsum(a):\n",
        "  sum=0\n",
        "  for i in range(len(a)):\n",
        "    if((a[i]%3==0)and(a[i]%5==0)):\n",
        "      sum=sum+a[i]\n",
        "  print(sum)\n",
        "    \n",
        "a=[15,12,45,9,36,60,90,45]\n",
        "linearsum(a)"
      ],
      "execution_count": 89,
      "outputs": [
        {
          "output_type": "stream",
          "text": [
            "255\n"
          ],
          "name": "stdout"
        }
      ]
    },
    {
      "cell_type": "code",
      "metadata": {
        "id": "MjVOberd5Nek",
        "colab_type": "code",
        "colab": {
          "base_uri": "https://localhost:8080/",
          "height": 371
        },
        "outputId": "d28b58ef-de44-4ac1-8727-fd393cedd29c"
      },
      "source": [
        "def linearalternative(a):\n",
        "  x=5\n",
        "for i in range(len(a)):\n",
        "  if(x!=i-1):\n",
        "    \n",
        "    if((i==1)or(i==5)):\n",
        "      print(a[i])\n",
        "    else:\n",
        "      print(a[i-1]*a[i+1]) \n",
        "      i=i+1\n",
        "\n",
        "a=[1,2,3,4,5]\n",
        "linearalternative(a)\n",
        "  \n"
      ],
      "execution_count": 101,
      "outputs": [
        {
          "output_type": "stream",
          "text": [
            "540\n",
            "12\n",
            "108\n",
            "1620\n",
            "540\n",
            "60\n",
            "2700\n"
          ],
          "name": "stdout"
        },
        {
          "output_type": "error",
          "ename": "IndexError",
          "evalue": "ignored",
          "traceback": [
            "\u001b[0;31m---------------------------------------------------------------------------\u001b[0m",
            "\u001b[0;31mIndexError\u001b[0m                                Traceback (most recent call last)",
            "\u001b[0;32m<ipython-input-101-ba2f6e68c6bb>\u001b[0m in \u001b[0;36m<module>\u001b[0;34m()\u001b[0m\n\u001b[1;32m      7\u001b[0m       \u001b[0mprint\u001b[0m\u001b[0;34m(\u001b[0m\u001b[0ma\u001b[0m\u001b[0;34m[\u001b[0m\u001b[0mi\u001b[0m\u001b[0;34m]\u001b[0m\u001b[0;34m)\u001b[0m\u001b[0;34m\u001b[0m\u001b[0;34m\u001b[0m\u001b[0m\n\u001b[1;32m      8\u001b[0m     \u001b[0;32melse\u001b[0m\u001b[0;34m:\u001b[0m\u001b[0;34m\u001b[0m\u001b[0;34m\u001b[0m\u001b[0m\n\u001b[0;32m----> 9\u001b[0;31m       \u001b[0mprint\u001b[0m\u001b[0;34m(\u001b[0m\u001b[0ma\u001b[0m\u001b[0;34m[\u001b[0m\u001b[0mi\u001b[0m\u001b[0;34m-\u001b[0m\u001b[0;36m1\u001b[0m\u001b[0;34m]\u001b[0m\u001b[0;34m*\u001b[0m\u001b[0ma\u001b[0m\u001b[0;34m[\u001b[0m\u001b[0mi\u001b[0m\u001b[0;34m+\u001b[0m\u001b[0;36m1\u001b[0m\u001b[0;34m]\u001b[0m\u001b[0;34m)\u001b[0m\u001b[0;34m\u001b[0m\u001b[0;34m\u001b[0m\u001b[0m\n\u001b[0m\u001b[1;32m     10\u001b[0m       \u001b[0mi\u001b[0m\u001b[0;34m=\u001b[0m\u001b[0mi\u001b[0m\u001b[0;34m+\u001b[0m\u001b[0;36m1\u001b[0m\u001b[0;34m\u001b[0m\u001b[0;34m\u001b[0m\u001b[0m\n\u001b[1;32m     11\u001b[0m \u001b[0;34m\u001b[0m\u001b[0m\n",
            "\u001b[0;31mIndexError\u001b[0m: list index out of range"
          ]
        }
      ]
    },
    {
      "cell_type": "code",
      "metadata": {
        "id": "AtAI4dvDAwxK",
        "colab_type": "code",
        "colab": {}
      },
      "source": [
        ""
      ],
      "execution_count": 0,
      "outputs": []
    }
  ]
}