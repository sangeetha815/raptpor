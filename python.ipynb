{
  "nbformat": 4,
  "nbformat_minor": 0,
  "metadata": {
    "colab": {
      "name": "python.ipynb",
      "version": "0.3.2",
      "provenance": [],
      "include_colab_link": true
    },
    "kernelspec": {
      "name": "python3",
      "display_name": "Python 3"
    }
  },
  "cells": [
    {
      "cell_type": "markdown",
      "metadata": {
        "id": "view-in-github",
        "colab_type": "text"
      },
      "source": [
        "<a href=\"https://colab.research.google.com/github/sangeetha815/raptpor/blob/master/python.ipynb\" target=\"_parent\"><img src=\"https://colab.research.google.com/assets/colab-badge.svg\" alt=\"Open In Colab\"/></a>"
      ]
    },
    {
      "cell_type": "code",
      "metadata": {
        "id": "wiQzzQHToiop",
        "colab_type": "code",
        "outputId": "15c6b076-9f54-4e87-e6e1-79b490f0a2ce",
        "colab": {
          "base_uri": "https://localhost:8080/",
          "height": 34
        }
      },
      "source": [
        "x=20\n",
        "if(x>15):\n",
        "  print(\"hello\")\n",
        "else:\n",
        "  print(\"bye\")"
      ],
      "execution_count": 0,
      "outputs": [
        {
          "output_type": "stream",
          "text": [
            "hello\n"
          ],
          "name": "stdout"
        }
      ]
    },
    {
      "cell_type": "code",
      "metadata": {
        "id": "kq474LOlx2Ob",
        "colab_type": "code",
        "outputId": "0334c6e9-eb8e-4fcc-c4ba-d5464ad6596a",
        "colab": {
          "base_uri": "https://localhost:8080/",
          "height": 35
        }
      },
      "source": [
        "x=10;\n",
        "if(x<15):\n",
        "    print(\"the number is less than 15\");"
      ],
      "execution_count": 0,
      "outputs": [
        {
          "output_type": "stream",
          "text": [
            "the number is less than 15\n"
          ],
          "name": "stdout"
        }
      ]
    },
    {
      "cell_type": "code",
      "metadata": {
        "id": "kGjZDOhKx8Q5",
        "colab_type": "code",
        "outputId": "77f0c1e2-07fc-4a87-a23e-1a69a1ad5750",
        "colab": {
          "base_uri": "https://localhost:8080/",
          "height": 72
        }
      },
      "source": [
        "x=int(input(\"enter x\"));\n",
        "y=int(input(\"enter y\"));\n",
        "if(x>y):\n",
        "    print(\"x is greater\",x);\n",
        "else:\n",
        "    print(\"y is greater\",y);"
      ],
      "execution_count": 0,
      "outputs": [
        {
          "output_type": "stream",
          "text": [
            "enter x10\n",
            "enter y15\n",
            "y is greater 15\n"
          ],
          "name": "stdout"
        }
      ]
    },
    {
      "cell_type": "code",
      "metadata": {
        "id": "ShfyiZ7nyFWA",
        "colab_type": "code",
        "outputId": "5ecaabce-3553-49a4-9a37-a09debe08135",
        "colab": {
          "base_uri": "https://localhost:8080/",
          "height": 72
        }
      },
      "source": [
        "x=int(input(\"enter x\"));\n",
        "y=int(input(\"enter y\"));\n",
        "if(x==y):\n",
        "    sum=x**2;\n",
        "    print(\"answer is\",sum);\n",
        "else:\n",
        "    sum=x*y;\n",
        "    print(\"answer is\",sum);"
      ],
      "execution_count": 0,
      "outputs": [
        {
          "output_type": "stream",
          "text": [
            "enter x4\n",
            "enter y4\n",
            "answer is 16\n"
          ],
          "name": "stdout"
        }
      ]
    },
    {
      "cell_type": "code",
      "metadata": {
        "id": "lXET6smxyoja",
        "colab_type": "code",
        "outputId": "6a372981-5db6-4bbe-8577-2d68f6ef7c64",
        "colab": {
          "base_uri": "https://localhost:8080/",
          "height": 54
        }
      },
      "source": [
        "x=int(input(\"enter no.\"));\n",
        "if(x==0):\n",
        "    print(\"it is 0\");\n",
        "elif(x>0):\n",
        "    print(\"it is +ve\");\n",
        "else:\n",
        "    print(\"it is -ve\");"
      ],
      "execution_count": 0,
      "outputs": [
        {
          "output_type": "stream",
          "text": [
            "enter no.-25\n",
            "it is -ve\n"
          ],
          "name": "stdout"
        }
      ]
    },
    {
      "cell_type": "code",
      "metadata": {
        "id": "elwIxOcP3mwS",
        "colab_type": "code",
        "outputId": "0875667a-05d1-44a6-f59f-28b0de68117c",
        "colab": {
          "base_uri": "https://localhost:8080/",
          "height": 199
        }
      },
      "source": [
        "n=1\n",
        "while(n<=10):\n",
        "    print(n);\n",
        "    n=n+1;"
      ],
      "execution_count": 0,
      "outputs": [
        {
          "output_type": "stream",
          "text": [
            "1\n",
            "2\n",
            "3\n",
            "4\n",
            "5\n",
            "6\n",
            "7\n",
            "8\n",
            "9\n",
            "10\n"
          ],
          "name": "stdout"
        }
      ]
    },
    {
      "cell_type": "code",
      "metadata": {
        "id": "43S1XpZk3sJB",
        "colab_type": "code",
        "outputId": "2d8d1092-5c83-4dd2-f509-6c70f3d8529b",
        "colab": {
          "base_uri": "https://localhost:8080/",
          "height": 54
        }
      },
      "source": [
        "n=int(input(\"enter n\"));\n",
        "i=1;\n",
        "fact=1;\n",
        "while(i<=n):\n",
        "    fact=fact*i;\n",
        "    i=i+1;\n",
        "print(\"factorial is\",fact);"
      ],
      "execution_count": 0,
      "outputs": [
        {
          "output_type": "stream",
          "text": [
            "enter n5\n",
            "factorial is 120\n"
          ],
          "name": "stdout"
        }
      ]
    },
    {
      "cell_type": "code",
      "metadata": {
        "id": "fz9Ud-do38-w",
        "colab_type": "code",
        "outputId": "0a53f947-366b-48e9-c1a9-6004c11f1c3f",
        "colab": {
          "base_uri": "https://localhost:8080/",
          "height": 199
        }
      },
      "source": [
        "n=10\n",
        "while(n>0):\n",
        "    print(n);\n",
        "    n=n-1;"
      ],
      "execution_count": 0,
      "outputs": [
        {
          "output_type": "stream",
          "text": [
            "10\n",
            "9\n",
            "8\n",
            "7\n",
            "6\n",
            "5\n",
            "4\n",
            "3\n",
            "2\n",
            "1\n"
          ],
          "name": "stdout"
        }
      ]
    },
    {
      "cell_type": "code",
      "metadata": {
        "id": "LO4tFWeA4EZ3",
        "colab_type": "code",
        "outputId": "c16296f3-f12c-4e32-a1c3-ad1a255ce72f",
        "colab": {
          "base_uri": "https://localhost:8080/",
          "height": 35
        }
      },
      "source": [
        "n=1;\n",
        "sum=0;\n",
        "while(n<=100):\n",
        "    if(n%2==0):\n",
        "        sum=sum+n;\n",
        "    n=n+1;\n",
        "    \n",
        "print(sum);"
      ],
      "execution_count": 0,
      "outputs": [
        {
          "output_type": "stream",
          "text": [
            "2550\n"
          ],
          "name": "stdout"
        }
      ]
    },
    {
      "cell_type": "code",
      "metadata": {
        "id": "yEgrrlQL4KfA",
        "colab_type": "code",
        "outputId": "2dfddca1-ae36-4a0e-e88c-e902e3e20681",
        "colab": {
          "base_uri": "https://localhost:8080/",
          "height": 90
        }
      },
      "source": [
        "x=int(input(\"enter number\"));\n",
        "i=0;\n",
        "while(x!=0):\n",
        "    r=x%10;\n",
        "    if(r==0):\n",
        "         print(\"zero\");\n",
        "    elif(r==1):\n",
        "        print(\"one\");\n",
        "    elif(r==2):\n",
        "        print(\"two\");\n",
        "    elif(r==3):\n",
        "        print(\"three\");\n",
        "    elif(r==4):\n",
        "        print(\"four\");\n",
        "    elif(r==5):\n",
        "        print(\"five\");\n",
        "    x=x//10;\n",
        "    i=i+1;"
      ],
      "execution_count": 0,
      "outputs": [
        {
          "output_type": "stream",
          "text": [
            "enter number555\n",
            "five\n",
            "five\n",
            "five\n"
          ],
          "name": "stdout"
        }
      ]
    }
  ]
}